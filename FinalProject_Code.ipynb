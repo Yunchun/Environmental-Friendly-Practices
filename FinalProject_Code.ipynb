{
 "cells": [
  {
   "cell_type": "code",
   "execution_count": 1,
   "metadata": {},
   "outputs": [],
   "source": [
    "import itertools\n",
    "from scipy.optimize import linprog"
   ]
  },
  {
   "cell_type": "code",
   "execution_count": 2,
   "metadata": {},
   "outputs": [],
   "source": [
    "import pandas as pd\n",
    "import numpy as np\n",
    "import seaborn as sns\n",
    "import matplotlib.pyplot as plt"
   ]
  },
  {
   "cell_type": "code",
   "execution_count": 3,
   "metadata": {},
   "outputs": [],
   "source": [
    "lower_bounds = {'customer_care': np.array([12.9444, 0.007813, 2.475]),\n",
    "                'distribution': np.array([0, 0, 3.07]),\n",
    "                'cotton_production': np.array([290.0044531, 0, 9.38E-06]),\n",
    "                'manufacturing': np.array([21.16504, 28.97, 0.1194])}\n",
    "\n",
    "upper_bounds = {'customer_care': np.array([47.551, 0.039063, 6.2]),\n",
    "               'distribution': np.array([0, 0, 6.5]),\n",
    "                'cotton_production': np.array([660.0044531, 0, 0.000125]),\n",
    "                'manufacturing': np.array([95.114973, 28.97, 1.7094])\n",
    "               }\n"
   ]
  },
  {
   "cell_type": "code",
   "execution_count": 4,
   "metadata": {},
   "outputs": [],
   "source": [
    "def scaling(input_lst, step):\n",
    "    lower_bound = lower_bounds[step]\n",
    "    upper_bound = upper_bounds[step]\n",
    "    range_keys = (upper_bound - lower_bound) / 10\n",
    "    diffs = input_lst - lower_bound\n",
    "    score_lst = []\n",
    "    for i in range(0, len(diffs)):\n",
    "        for j in range(1, 11):\n",
    "            if diffs[i] <= range_keys[i] * j:\n",
    "                score_lst.append(j)\n",
    "                break\n",
    "    return score_lst"
   ]
  },
  {
   "cell_type": "code",
   "execution_count": 5,
   "metadata": {},
   "outputs": [],
   "source": [
    "lower = 1/3 - 1/10\n",
    "upper = 1/3 + 1/10"
   ]
  },
  {
   "cell_type": "code",
   "execution_count": 6,
   "metadata": {},
   "outputs": [],
   "source": [
    "A = [[1, 1, 1]]\n",
    "b = [1]\n",
    "x_bounds = (lower, upper)\n",
    "y_bounds = (lower, upper)\n",
    "z_bounds = (lower, upper)"
   ]
  },
  {
   "cell_type": "markdown",
   "metadata": {},
   "source": [
    "### Customer Care"
   ]
  },
  {
   "cell_type": "code",
   "execution_count": 7,
   "metadata": {},
   "outputs": [],
   "source": [
    "washing_water = [12.9444, 17.4354, 22.1905, 35.3991, 47.551]\n",
    "washing_co2 = [1.875, 2.16, 2.36, 2.64, 2.9]\n",
    "detergent = [0.0078125, 0.0234375, 0.0390625]\n",
    "dryer = [0.6, 0.7, 2.4, 3.3] \n",
    "possible_combos = list(map(list, list(itertools.product(washing_water, detergent, dryer))))\n",
    "lst = []\n",
    "for combo in possible_combos:\n",
    "    combo[2] += washing_co2[washing_water.index(combo[0])]"
   ]
  },
  {
   "cell_type": "code",
   "execution_count": 8,
   "metadata": {},
   "outputs": [],
   "source": [
    "scores = []\n",
    "weights = []\n",
    "for combo in possible_combos:\n",
    "    c = scaling(combo, 'customer_care')\n",
    "    res = linprog(c, A_eq = A, b_eq = b, bounds=(x_bounds, y_bounds, z_bounds))\n",
    "    scores.append(res.fun)\n",
    "    weights.append(res.x)"
   ]
  },
  {
   "cell_type": "code",
   "execution_count": 9,
   "metadata": {},
   "outputs": [],
   "source": [
    "machine_cond = ['New Machine Medium Heat', '5 Yrs Old Machine Medium Heat',\n",
    "                '10 Yrs Old Machine Medium Heat', '20 Yrs Old Machine Medium Heat',\n",
    "                '30 Yrs Old Machine Medium Heat']\n",
    "load_cond = ['Small Load', 'Large Load', 'Full Load']\n",
    "dryer_cond = ['30 Celsius', '40 Celsius, dried on a line', '40 Celsius, tumble dried',\n",
    "             '60 Celsius, dries in combined washer/drier']\n",
    "conds = [', '.join(lst) for lst in list(map(list, list(itertools.product(machine_cond, load_cond, dryer_cond))))]"
   ]
  },
  {
   "cell_type": "code",
   "execution_count": 10,
   "metadata": {},
   "outputs": [
    {
     "data": {
      "text/html": [
       "<div>\n",
       "<style scoped>\n",
       "    .dataframe tbody tr th:only-of-type {\n",
       "        vertical-align: middle;\n",
       "    }\n",
       "\n",
       "    .dataframe tbody tr th {\n",
       "        vertical-align: top;\n",
       "    }\n",
       "\n",
       "    .dataframe thead th {\n",
       "        text-align: right;\n",
       "    }\n",
       "</style>\n",
       "<table border=\"1\" class=\"dataframe\">\n",
       "  <thead>\n",
       "    <tr style=\"text-align: right;\">\n",
       "      <th></th>\n",
       "      <th>Procedure</th>\n",
       "      <th>Data</th>\n",
       "      <th>Score</th>\n",
       "      <th>Weights</th>\n",
       "    </tr>\n",
       "  </thead>\n",
       "  <tbody>\n",
       "    <tr>\n",
       "      <th>0</th>\n",
       "      <td>New Machine Medium Heat, Small Load, 30 Celsius</td>\n",
       "      <td>[12.9444, 0.0078125, 2.475]</td>\n",
       "      <td>1.000000</td>\n",
       "      <td>[0.2333333333333333, 0.3333333333333333, 0.433...</td>\n",
       "    </tr>\n",
       "    <tr>\n",
       "      <th>1</th>\n",
       "      <td>New Machine Medium Heat, Small Load, 40 Celsiu...</td>\n",
       "      <td>[12.9444, 0.0078125, 2.575]</td>\n",
       "      <td>1.000000</td>\n",
       "      <td>[0.2333333333333333, 0.3333333333333333, 0.433...</td>\n",
       "    </tr>\n",
       "    <tr>\n",
       "      <th>12</th>\n",
       "      <td>5 Yrs Old Machine Medium Heat, Small Load, 30 ...</td>\n",
       "      <td>[17.4354, 0.0078125, 2.7600000000000002]</td>\n",
       "      <td>1.233333</td>\n",
       "      <td>[0.2333333333333333, 0.3333333333333333, 0.433...</td>\n",
       "    </tr>\n",
       "    <tr>\n",
       "      <th>13</th>\n",
       "      <td>5 Yrs Old Machine Medium Heat, Small Load, 40 ...</td>\n",
       "      <td>[17.4354, 0.0078125, 2.8600000000000003]</td>\n",
       "      <td>1.566667</td>\n",
       "      <td>[0.2333333333333333, 0.43333333333333335, 0.33...</td>\n",
       "    </tr>\n",
       "    <tr>\n",
       "      <th>25</th>\n",
       "      <td>10 Yrs Old Machine Medium Heat, Small Load, 40...</td>\n",
       "      <td>[22.1905, 0.0078125, 3.0599999999999996]</td>\n",
       "      <td>1.800000</td>\n",
       "      <td>[0.2333333333333333, 0.43333333333333335, 0.33...</td>\n",
       "    </tr>\n",
       "  </tbody>\n",
       "</table>\n",
       "</div>"
      ],
      "text/plain": [
       "                                            Procedure  \\\n",
       "0     New Machine Medium Heat, Small Load, 30 Celsius   \n",
       "1   New Machine Medium Heat, Small Load, 40 Celsiu...   \n",
       "12  5 Yrs Old Machine Medium Heat, Small Load, 30 ...   \n",
       "13  5 Yrs Old Machine Medium Heat, Small Load, 40 ...   \n",
       "25  10 Yrs Old Machine Medium Heat, Small Load, 40...   \n",
       "\n",
       "                                        Data     Score  \\\n",
       "0                [12.9444, 0.0078125, 2.475]  1.000000   \n",
       "1                [12.9444, 0.0078125, 2.575]  1.000000   \n",
       "12  [17.4354, 0.0078125, 2.7600000000000002]  1.233333   \n",
       "13  [17.4354, 0.0078125, 2.8600000000000003]  1.566667   \n",
       "25  [22.1905, 0.0078125, 3.0599999999999996]  1.800000   \n",
       "\n",
       "                                              Weights  \n",
       "0   [0.2333333333333333, 0.3333333333333333, 0.433...  \n",
       "1   [0.2333333333333333, 0.3333333333333333, 0.433...  \n",
       "12  [0.2333333333333333, 0.3333333333333333, 0.433...  \n",
       "13  [0.2333333333333333, 0.43333333333333335, 0.33...  \n",
       "25  [0.2333333333333333, 0.43333333333333335, 0.33...  "
      ]
     },
     "metadata": {},
     "output_type": "display_data"
    },
    {
     "data": {
      "image/png": "[encoded data removed]",
      "text/plain": [
       "<Figure size 288x216 with 1 Axes>"
      ]
     },
     "metadata": {
      "needs_background": "light"
     },
     "output_type": "display_data"
    }
   ],
   "source": [
    "output = pd.DataFrame({'Procedure': conds, 'Data': possible_combos, 'Score': scores, 'Weights': weights}).sort_values('Score')\n",
    "display(output.head())\n",
    "fig, ax = plt.subplots(figsize=(4, 3))\n",
    "sns.barplot(x = 'Score', y = 'Procedure', data = output.head(), orient = 'h')\n",
    "plt.xticks(np.arange(1, 11))\n",
    "plt.show()"
   ]
  },
  {
   "cell_type": "code",
   "execution_count": 11,
   "metadata": {},
   "outputs": [
    {
     "data": {
      "text/html": [
       "<div>\n",
       "<style scoped>\n",
       "    .dataframe tbody tr th:only-of-type {\n",
       "        vertical-align: middle;\n",
       "    }\n",
       "\n",
       "    .dataframe tbody tr th {\n",
       "        vertical-align: top;\n",
       "    }\n",
       "\n",
       "    .dataframe thead th {\n",
       "        text-align: right;\n",
       "    }\n",
       "</style>\n",
       "<table border=\"1\" class=\"dataframe\">\n",
       "  <thead>\n",
       "    <tr style=\"text-align: right;\">\n",
       "      <th></th>\n",
       "      <th>Procedure</th>\n",
       "      <th>Data</th>\n",
       "      <th>Score</th>\n",
       "      <th>Weights</th>\n",
       "    </tr>\n",
       "  </thead>\n",
       "  <tbody>\n",
       "    <tr>\n",
       "      <th>46</th>\n",
       "      <td>20 Yrs Old Machine Medium Heat, Full Load, 40 ...</td>\n",
       "      <td>[35.3991, 0.0390625, 5.04]</td>\n",
       "      <td>7.700000</td>\n",
       "      <td>[0.3333333333333333, 0.2333333333333333, 0.433...</td>\n",
       "    </tr>\n",
       "    <tr>\n",
       "      <th>55</th>\n",
       "      <td>30 Yrs Old Machine Medium Heat, Large Load, 60...</td>\n",
       "      <td>[47.551, 0.0234375, 6.199999999999999]</td>\n",
       "      <td>7.833333</td>\n",
       "      <td>[0.2333333333333333, 0.43333333333333335, 0.33...</td>\n",
       "    </tr>\n",
       "    <tr>\n",
       "      <th>47</th>\n",
       "      <td>20 Yrs Old Machine Medium Heat, Full Load, 60 ...</td>\n",
       "      <td>[35.3991, 0.0390625, 5.9399999999999995]</td>\n",
       "      <td>8.700000</td>\n",
       "      <td>[0.43333333333333335, 0.2333333333333333, 0.33...</td>\n",
       "    </tr>\n",
       "    <tr>\n",
       "      <th>58</th>\n",
       "      <td>30 Yrs Old Machine Medium Heat, Full Load, 40 ...</td>\n",
       "      <td>[47.551, 0.0390625, 5.3]</td>\n",
       "      <td>9.133333</td>\n",
       "      <td>[0.2333333333333333, 0.3333333333333333, 0.433...</td>\n",
       "    </tr>\n",
       "    <tr>\n",
       "      <th>59</th>\n",
       "      <td>30 Yrs Old Machine Medium Heat, Full Load, 60 ...</td>\n",
       "      <td>[47.551, 0.0390625, 6.199999999999999]</td>\n",
       "      <td>10.000000</td>\n",
       "      <td>[0.2333333333333333, 0.3333333333333333, 0.433...</td>\n",
       "    </tr>\n",
       "  </tbody>\n",
       "</table>\n",
       "</div>"
      ],
      "text/plain": [
       "                                            Procedure  \\\n",
       "46  20 Yrs Old Machine Medium Heat, Full Load, 40 ...   \n",
       "55  30 Yrs Old Machine Medium Heat, Large Load, 60...   \n",
       "47  20 Yrs Old Machine Medium Heat, Full Load, 60 ...   \n",
       "58  30 Yrs Old Machine Medium Heat, Full Load, 40 ...   \n",
       "59  30 Yrs Old Machine Medium Heat, Full Load, 60 ...   \n",
       "\n",
       "                                        Data      Score  \\\n",
       "46                [35.3991, 0.0390625, 5.04]   7.700000   \n",
       "55    [47.551, 0.0234375, 6.199999999999999]   7.833333   \n",
       "47  [35.3991, 0.0390625, 5.9399999999999995]   8.700000   \n",
       "58                  [47.551, 0.0390625, 5.3]   9.133333   \n",
       "59    [47.551, 0.0390625, 6.199999999999999]  10.000000   \n",
       "\n",
       "                                              Weights  \n",
       "46  [0.3333333333333333, 0.2333333333333333, 0.433...  \n",
       "55  [0.2333333333333333, 0.43333333333333335, 0.33...  \n",
       "47  [0.43333333333333335, 0.2333333333333333, 0.33...  \n",
       "58  [0.2333333333333333, 0.3333333333333333, 0.433...  \n",
       "59  [0.2333333333333333, 0.3333333333333333, 0.433...  "
      ]
     },
     "metadata": {},
     "output_type": "display_data"
    },
    {
     "data": {
      "image/png": "[encoded data removed]",
      "text/plain": [
       "<Figure size 288x216 with 1 Axes>"
      ]
     },
     "metadata": {
      "needs_background": "light"
     },
     "output_type": "display_data"
    }
   ],
   "source": [
    "display(output.tail())\n",
    "fig, ax = plt.subplots(figsize=(4, 3))\n",
    "sns.barplot(x = 'Score', y = 'Procedure', data = output.tail(), orient = 'h')\n",
    "plt.xticks(np.arange(1, 11))\n",
    "plt.show()"
   ]
  },
  {
   "cell_type": "markdown",
   "metadata": {},
   "source": [
    "### Distribution"
   ]
  },
  {
   "cell_type": "code",
   "execution_count": 12,
   "metadata": {},
   "outputs": [],
   "source": [
    "possible_combos = [[0, 0, 3.07], [0, 0, 6.5]]\n",
    "scores = []\n",
    "weights = []\n",
    "for combo in possible_combos:\n",
    "    c = scaling(combo, 'distribution')\n",
    "    res = linprog(c, A_eq = A, b_eq = b, bounds=(x_bounds, y_bounds, z_bounds))\n",
    "    scores.append(res.fun)\n",
    "    weights.append(res.x)"
   ]
  },
  {
   "cell_type": "code",
   "execution_count": 13,
   "metadata": {},
   "outputs": [
    {
     "data": {
      "text/html": [
       "<div>\n",
       "<style scoped>\n",
       "    .dataframe tbody tr th:only-of-type {\n",
       "        vertical-align: middle;\n",
       "    }\n",
       "\n",
       "    .dataframe tbody tr th {\n",
       "        vertical-align: top;\n",
       "    }\n",
       "\n",
       "    .dataframe thead th {\n",
       "        text-align: right;\n",
       "    }\n",
       "</style>\n",
       "<table border=\"1\" class=\"dataframe\">\n",
       "  <thead>\n",
       "    <tr style=\"text-align: right;\">\n",
       "      <th></th>\n",
       "      <th>Shipping Methods</th>\n",
       "      <th>Data</th>\n",
       "      <th>Score</th>\n",
       "      <th>Weights</th>\n",
       "    </tr>\n",
       "  </thead>\n",
       "  <tbody>\n",
       "    <tr>\n",
       "      <th>0</th>\n",
       "      <td>Asia to Europe by ship</td>\n",
       "      <td>[0, 0, 3.07]</td>\n",
       "      <td>1.0</td>\n",
       "      <td>[0.2333333333333333, 0.3333333333333333, 0.433...</td>\n",
       "    </tr>\n",
       "    <tr>\n",
       "      <th>1</th>\n",
       "      <td>Asia to Europe by plane</td>\n",
       "      <td>[0, 0, 6.5]</td>\n",
       "      <td>3.1</td>\n",
       "      <td>[0.3333333333333333, 0.43333333333333335, 0.23...</td>\n",
       "    </tr>\n",
       "  </tbody>\n",
       "</table>\n",
       "</div>"
      ],
      "text/plain": [
       "          Shipping Methods          Data  Score  \\\n",
       "0   Asia to Europe by ship  [0, 0, 3.07]    1.0   \n",
       "1  Asia to Europe by plane   [0, 0, 6.5]    3.1   \n",
       "\n",
       "                                             Weights  \n",
       "0  [0.2333333333333333, 0.3333333333333333, 0.433...  \n",
       "1  [0.3333333333333333, 0.43333333333333335, 0.23...  "
      ]
     },
     "metadata": {},
     "output_type": "display_data"
    },
    {
     "data": {
      "image/png": "[encoded data removed]",
      "text/plain": [
       "<Figure size 360x216 with 1 Axes>"
      ]
     },
     "metadata": {
      "needs_background": "light"
     },
     "output_type": "display_data"
    }
   ],
   "source": [
    "output = pd.DataFrame({'Shipping Methods': ['Asia to Europe by ship', 'Asia to Europe by plane'],\n",
    "                       'Data': possible_combos, 'Score': scores, 'Weights': weights})\n",
    "display(output)\n",
    "fig, ax = plt.subplots(figsize=(5, 3))\n",
    "sns.barplot(x = 'Shipping Methods', y = 'Score', data = output)\n",
    "plt.yticks(np.arange(1, 11))\n",
    "plt.show()"
   ]
  },
  {
   "cell_type": "markdown",
   "metadata": {},
   "source": [
    "### Cotton Production"
   ]
  },
  {
   "cell_type": "code",
   "execution_count": 14,
   "metadata": {},
   "outputs": [],
   "source": [
    "cotton_water = [660.004453, 290.004453]\n",
    "carbon = [0]\n",
    "pest_chemical = [1.56E-05, 1.95E-05, 1.17E-05, 9.38E-05,\n",
    "                 6.25E-05, 0.000125, 4.69E-05, 3.13E-05, 4.69E-05, 3.91E-05, 9.38E-06]\n",
    "possible_combos = list(map(list, list(itertools.product(cotton_water, carbon, pest_chemical))))"
   ]
  },
  {
   "cell_type": "code",
   "execution_count": 15,
   "metadata": {},
   "outputs": [],
   "source": [
    "scores = []\n",
    "weights = []\n",
    "for combo in possible_combos:\n",
    "    c = scaling(combo, 'cotton_production')\n",
    "    res = linprog(c, A_eq = A, b_eq = b, bounds=(x_bounds, y_bounds, z_bounds))\n",
    "    scores.append(res.fun)\n",
    "    weights.append(res.x)"
   ]
  },
  {
   "cell_type": "code",
   "execution_count": 16,
   "metadata": {},
   "outputs": [],
   "source": [
    "cotton_type = ['Organic', 'Conventional']\n",
    "pesticide_brand = ['0.38 ounce Imidacloprid', '0.38 ounce Centric', '0.38 ounce Transform',\n",
    "                   '0.38 ounce Orthene', '0.38 ounce Bidrin', '0.38 ounce Vydate CL-V',\n",
    "                   '0.38 ounce Diamond', '0.38 ounce Acephate', '0.38 ounce Mixture of acephate and imidacloprid',\n",
    "                   '0.38 ounce Aphids', '0.38 ounce Intruder']\n",
    "conds = [', '.join(lst) for lst in list(map(list, list(itertools.product(cotton_type, pesticide_brand))))]"
   ]
  },
  {
   "cell_type": "code",
   "execution_count": 17,
   "metadata": {},
   "outputs": [
    {
     "data": {
      "text/html": [
       "<div>\n",
       "<style scoped>\n",
       "    .dataframe tbody tr th:only-of-type {\n",
       "        vertical-align: middle;\n",
       "    }\n",
       "\n",
       "    .dataframe tbody tr th {\n",
       "        vertical-align: top;\n",
       "    }\n",
       "\n",
       "    .dataframe thead th {\n",
       "        text-align: right;\n",
       "    }\n",
       "</style>\n",
       "<table border=\"1\" class=\"dataframe\">\n",
       "  <thead>\n",
       "    <tr style=\"text-align: right;\">\n",
       "      <th></th>\n",
       "      <th>Procedure</th>\n",
       "      <th>Data</th>\n",
       "      <th>Score</th>\n",
       "      <th>Weights</th>\n",
       "    </tr>\n",
       "  </thead>\n",
       "  <tbody>\n",
       "    <tr>\n",
       "      <th>21</th>\n",
       "      <td>Conventional, 0.38 ounce Intruder</td>\n",
       "      <td>[290.004453, 0, 9.38e-06]</td>\n",
       "      <td>1.000000</td>\n",
       "      <td>[0.2333333333333333, 0.3333333333333333, 0.433...</td>\n",
       "    </tr>\n",
       "    <tr>\n",
       "      <th>13</th>\n",
       "      <td>Conventional, 0.38 ounce Transform</td>\n",
       "      <td>[290.004453, 0, 1.17e-05]</td>\n",
       "      <td>1.000000</td>\n",
       "      <td>[0.2333333333333333, 0.3333333333333333, 0.433...</td>\n",
       "    </tr>\n",
       "    <tr>\n",
       "      <th>12</th>\n",
       "      <td>Conventional, 0.38 ounce Centric</td>\n",
       "      <td>[290.004453, 0, 1.95e-05]</td>\n",
       "      <td>1.000000</td>\n",
       "      <td>[0.2333333333333333, 0.3333333333333333, 0.433...</td>\n",
       "    </tr>\n",
       "    <tr>\n",
       "      <th>11</th>\n",
       "      <td>Conventional, 0.38 ounce Imidacloprid</td>\n",
       "      <td>[290.004453, 0, 1.56e-05]</td>\n",
       "      <td>1.000000</td>\n",
       "      <td>[0.2333333333333333, 0.3333333333333333, 0.433...</td>\n",
       "    </tr>\n",
       "    <tr>\n",
       "      <th>18</th>\n",
       "      <td>Conventional, 0.38 ounce Acephate</td>\n",
       "      <td>[290.004453, 0, 3.13e-05]</td>\n",
       "      <td>1.233333</td>\n",
       "      <td>[0.3333333333333333, 0.43333333333333335, 0.23...</td>\n",
       "    </tr>\n",
       "  </tbody>\n",
       "</table>\n",
       "</div>"
      ],
      "text/plain": [
       "                                Procedure                       Data  \\\n",
       "21      Conventional, 0.38 ounce Intruder  [290.004453, 0, 9.38e-06]   \n",
       "13     Conventional, 0.38 ounce Transform  [290.004453, 0, 1.17e-05]   \n",
       "12       Conventional, 0.38 ounce Centric  [290.004453, 0, 1.95e-05]   \n",
       "11  Conventional, 0.38 ounce Imidacloprid  [290.004453, 0, 1.56e-05]   \n",
       "18      Conventional, 0.38 ounce Acephate  [290.004453, 0, 3.13e-05]   \n",
       "\n",
       "       Score                                            Weights  \n",
       "21  1.000000  [0.2333333333333333, 0.3333333333333333, 0.433...  \n",
       "13  1.000000  [0.2333333333333333, 0.3333333333333333, 0.433...  \n",
       "12  1.000000  [0.2333333333333333, 0.3333333333333333, 0.433...  \n",
       "11  1.000000  [0.2333333333333333, 0.3333333333333333, 0.433...  \n",
       "18  1.233333  [0.3333333333333333, 0.43333333333333335, 0.23...  "
      ]
     },
     "metadata": {},
     "output_type": "display_data"
    },
    {
     "data": {
      "image/png": "[encoded data removed]",
      "text/plain": [
       "<Figure size 288x360 with 1 Axes>"
      ]
     },
     "metadata": {
      "needs_background": "light"
     },
     "output_type": "display_data"
    }
   ],
   "source": [
    "output = pd.DataFrame({'Procedure': conds, 'Data': possible_combos, \n",
    "                       'Score': scores, 'Weights': weights}).sort_values('Score')\n",
    "display(output.head())\n",
    "fig, ax = plt.subplots(figsize=(4, 5))\n",
    "sns.barplot(x = 'Score', y = 'Procedure', data = output.head(), orient = 'h')\n",
    "plt.xticks(np.arange(1, 11))\n",
    "plt.show()"
   ]
  },
  {
   "cell_type": "code",
   "execution_count": 18,
   "metadata": {},
   "outputs": [
    {
     "data": {
      "text/html": [
       "<div>\n",
       "<style scoped>\n",
       "    .dataframe tbody tr th:only-of-type {\n",
       "        vertical-align: middle;\n",
       "    }\n",
       "\n",
       "    .dataframe tbody tr th {\n",
       "        vertical-align: top;\n",
       "    }\n",
       "\n",
       "    .dataframe thead th {\n",
       "        text-align: right;\n",
       "    }\n",
       "</style>\n",
       "<table border=\"1\" class=\"dataframe\">\n",
       "  <thead>\n",
       "    <tr style=\"text-align: right;\">\n",
       "      <th></th>\n",
       "      <th>Procedure</th>\n",
       "      <th>Data</th>\n",
       "      <th>Score</th>\n",
       "      <th>Weights</th>\n",
       "    </tr>\n",
       "  </thead>\n",
       "  <tbody>\n",
       "    <tr>\n",
       "      <th>8</th>\n",
       "      <td>Organic, 0.38 ounce Mixture of acephate and im...</td>\n",
       "      <td>[660.004453, 0, 4.69e-05]</td>\n",
       "      <td>4.100000</td>\n",
       "      <td>[0.2333333333333333, 0.43333333333333335, 0.33...</td>\n",
       "    </tr>\n",
       "    <tr>\n",
       "      <th>6</th>\n",
       "      <td>Organic, 0.38 ounce Diamond</td>\n",
       "      <td>[660.004453, 0, 4.69e-05]</td>\n",
       "      <td>4.100000</td>\n",
       "      <td>[0.2333333333333333, 0.43333333333333335, 0.33...</td>\n",
       "    </tr>\n",
       "    <tr>\n",
       "      <th>4</th>\n",
       "      <td>Organic, 0.38 ounce Bidrin</td>\n",
       "      <td>[660.004453, 0, 6.25e-05]</td>\n",
       "      <td>4.433333</td>\n",
       "      <td>[0.2333333333333333, 0.43333333333333335, 0.33...</td>\n",
       "    </tr>\n",
       "    <tr>\n",
       "      <th>3</th>\n",
       "      <td>Organic, 0.38 ounce Orthene</td>\n",
       "      <td>[660.004453, 0, 9.38e-05]</td>\n",
       "      <td>5.433333</td>\n",
       "      <td>[0.2333333333333333, 0.43333333333333335, 0.33...</td>\n",
       "    </tr>\n",
       "    <tr>\n",
       "      <th>5</th>\n",
       "      <td>Organic, 0.38 ounce Vydate CL-V</td>\n",
       "      <td>[660.004453, 0, 0.000125]</td>\n",
       "      <td>6.100000</td>\n",
       "      <td>[0.2333333333333333, 0.43333333333333335, 0.33...</td>\n",
       "    </tr>\n",
       "  </tbody>\n",
       "</table>\n",
       "</div>"
      ],
      "text/plain": [
       "                                           Procedure  \\\n",
       "8  Organic, 0.38 ounce Mixture of acephate and im...   \n",
       "6                        Organic, 0.38 ounce Diamond   \n",
       "4                         Organic, 0.38 ounce Bidrin   \n",
       "3                        Organic, 0.38 ounce Orthene   \n",
       "5                    Organic, 0.38 ounce Vydate CL-V   \n",
       "\n",
       "                        Data     Score  \\\n",
       "8  [660.004453, 0, 4.69e-05]  4.100000   \n",
       "6  [660.004453, 0, 4.69e-05]  4.100000   \n",
       "4  [660.004453, 0, 6.25e-05]  4.433333   \n",
       "3  [660.004453, 0, 9.38e-05]  5.433333   \n",
       "5  [660.004453, 0, 0.000125]  6.100000   \n",
       "\n",
       "                                             Weights  \n",
       "8  [0.2333333333333333, 0.43333333333333335, 0.33...  \n",
       "6  [0.2333333333333333, 0.43333333333333335, 0.33...  \n",
       "4  [0.2333333333333333, 0.43333333333333335, 0.33...  \n",
       "3  [0.2333333333333333, 0.43333333333333335, 0.33...  \n",
       "5  [0.2333333333333333, 0.43333333333333335, 0.33...  "
      ]
     },
     "metadata": {},
     "output_type": "display_data"
    },
    {
     "data": {
      "image/png": "[encoded data removed]",
      "text/plain": [
       "<Figure size 288x360 with 1 Axes>"
      ]
     },
     "metadata": {
      "needs_background": "light"
     },
     "output_type": "display_data"
    }
   ],
   "source": [
    "display(output.tail())\n",
    "fig, ax = plt.subplots(figsize=(4, 5))\n",
    "sns.barplot(x = 'Score', y = 'Procedure', data = output.tail(), orient = 'h')\n",
    "plt.xticks(np.arange(1, 11))\n",
    "plt.show()"
   ]
  },
  {
   "cell_type": "markdown",
   "metadata": {},
   "source": [
    "### Manufacturing"
   ]
  },
  {
   "cell_type": "code",
   "execution_count": 19,
   "metadata": {},
   "outputs": [],
   "source": [
    "water = [78.628172]\n",
    "dye_water = [6.6079, 9.2511, 7.9295, 3.9648, 11.5639, 9.9119, 6.6079, 0.6608, 7.2687,\n",
    "            6.6079, 1.9824]\n",
    "treatment_water = [0.793, 1.685, 4.9229, 0.0396]\n",
    "co2 = [28.97]\n",
    "dyeing_chemical = [0.19932, 0.12200156, 0.1208881, 1.7094, 0.2784,\n",
    "       0.16682186, 0.13628218]"
   ]
  },
  {
   "cell_type": "code",
   "execution_count": 20,
   "metadata": {},
   "outputs": [],
   "source": [
    "water_combos = np.sum(list(map(list, list(itertools.product(dye_water, treatment_water)))), axis = 1)\n",
    "water_combos = np.array(water_combos) + water"
   ]
  },
  {
   "cell_type": "code",
   "execution_count": 21,
   "metadata": {},
   "outputs": [],
   "source": [
    "possible_combos = list(map(list, list(itertools.product(water_combos, co2, dyeing_chemical))))"
   ]
  },
  {
   "cell_type": "code",
   "execution_count": 22,
   "metadata": {},
   "outputs": [],
   "source": [
    "scores = []\n",
    "weights = []\n",
    "for combo in possible_combos:\n",
    "    c = scaling(combo, 'manufacturing')\n",
    "    res = linprog(c, A_eq = A, b_eq = b, bounds=(x_bounds, y_bounds, z_bounds))\n",
    "    scores.append(res.fun)\n",
    "    weights.append(res.x)"
   ]
  },
  {
   "cell_type": "code",
   "execution_count": 23,
   "metadata": {},
   "outputs": [],
   "source": [
    "dye_procedure = ['Weaving, Knitting, Beam Dyeing, Printing, Print afterwashing, Dye finishing',\n",
    "                 'Weaving, Knitting, Beck Dyeing, Printing, Print afterwashing, Dye finishing',\n",
    "                 'Weaving, Knitting, Jet Dyeing, Printing, Print afterwashing, Dye finishing',\n",
    "                 'Weaving, Knitting, Jig Dyeing, Printing, Print afterwashing, Dye finishing',\n",
    "                 'Weaving, Knitting, Paddle Dyeing, Printing, Print afterwashing, Dye finishing',\n",
    "                 'Weaving, Knitting, Skein Dyeing, Printing, Print afterwashing, Dye finishing',\n",
    "                 'Weaving, Knitting, Stock Dyeing, Printing, Print afterwashing, Dye finishing',\n",
    "                 'Weaving, Knitting, Pad-batch Dyeing, Printing, Print afterwashing, Dye finishing',\n",
    "                 'Weaving, Knitting, Package Dyeing, Printing, Print afterwashing, Dye finishing',\n",
    "                 'Weaving, Knitting, Continuous bleaching, Printing, Print afterwashing, Dye finishing',\n",
    "                 'Weaving, Knitting, Indigo dyeing, Printing, Print afterwashing, Dye finishing']\n",
    "treatment_procedure = ['Desizing Cotton Fibres', 'Scouring Cotton Fibres', 'Bleaching Cotton Fibres',\n",
    "                    'Mercerizing Cotton Fibres']\n",
    "water_procedure = list(map(list, list(itertools.product(dye_procedure, treatment_procedure))))\n",
    "water_procedure = [', '.join(lst) for lst in water_procedure]"
   ]
  },
  {
   "cell_type": "code",
   "execution_count": 24,
   "metadata": {},
   "outputs": [],
   "source": [
    "chemicals = ['Salt', 'Caustic potash', 'Fiber-reactive dye powder', 'Zinc', 'Cupper', 'Petroleum', 'Others']"
   ]
  },
  {
   "cell_type": "code",
   "execution_count": 25,
   "metadata": {},
   "outputs": [],
   "source": [
    "conds = [', '.join(lst) for lst in list(map(list, list(itertools.product(water_procedure, chemicals))))]"
   ]
  },
  {
   "cell_type": "code",
   "execution_count": 26,
   "metadata": {},
   "outputs": [
    {
     "data": {
      "text/html": [
       "<div>\n",
       "<style scoped>\n",
       "    .dataframe tbody tr th:only-of-type {\n",
       "        vertical-align: middle;\n",
       "    }\n",
       "\n",
       "    .dataframe tbody tr th {\n",
       "        vertical-align: top;\n",
       "    }\n",
       "\n",
       "    .dataframe thead th {\n",
       "        text-align: right;\n",
       "    }\n",
       "</style>\n",
       "<table border=\"1\" class=\"dataframe\">\n",
       "  <thead>\n",
       "    <tr style=\"text-align: right;\">\n",
       "      <th></th>\n",
       "      <th>Procedure</th>\n",
       "      <th>Data</th>\n",
       "      <th>Score</th>\n",
       "      <th>Weights</th>\n",
       "    </tr>\n",
       "  </thead>\n",
       "  <tbody>\n",
       "    <tr>\n",
       "      <th>200</th>\n",
       "      <td>Weaving, Knitting, Pad-batch Dyeing, Printing,...</td>\n",
       "      <td>[80.08197200000001, 28.97, 0.2784]</td>\n",
       "      <td>2.633333</td>\n",
       "      <td>[0.2333333333333333, 0.3333333333333333, 0.433...</td>\n",
       "    </tr>\n",
       "    <tr>\n",
       "      <th>198</th>\n",
       "      <td>Weaving, Knitting, Pad-batch Dyeing, Printing,...</td>\n",
       "      <td>[80.08197200000001, 28.97, 0.1208881]</td>\n",
       "      <td>2.633333</td>\n",
       "      <td>[0.2333333333333333, 0.3333333333333333, 0.433...</td>\n",
       "    </tr>\n",
       "    <tr>\n",
       "      <th>197</th>\n",
       "      <td>Weaving, Knitting, Pad-batch Dyeing, Printing,...</td>\n",
       "      <td>[80.08197200000001, 28.97, 0.12200156]</td>\n",
       "      <td>2.633333</td>\n",
       "      <td>[0.2333333333333333, 0.3333333333333333, 0.433...</td>\n",
       "    </tr>\n",
       "    <tr>\n",
       "      <th>196</th>\n",
       "      <td>Weaving, Knitting, Pad-batch Dyeing, Printing,...</td>\n",
       "      <td>[80.08197200000001, 28.97, 0.19932]</td>\n",
       "      <td>2.633333</td>\n",
       "      <td>[0.2333333333333333, 0.3333333333333333, 0.433...</td>\n",
       "    </tr>\n",
       "    <tr>\n",
       "      <th>201</th>\n",
       "      <td>Weaving, Knitting, Pad-batch Dyeing, Printing,...</td>\n",
       "      <td>[80.08197200000001, 28.97, 0.16682186]</td>\n",
       "      <td>2.633333</td>\n",
       "      <td>[0.2333333333333333, 0.3333333333333333, 0.433...</td>\n",
       "    </tr>\n",
       "  </tbody>\n",
       "</table>\n",
       "</div>"
      ],
      "text/plain": [
       "                                             Procedure  \\\n",
       "200  Weaving, Knitting, Pad-batch Dyeing, Printing,...   \n",
       "198  Weaving, Knitting, Pad-batch Dyeing, Printing,...   \n",
       "197  Weaving, Knitting, Pad-batch Dyeing, Printing,...   \n",
       "196  Weaving, Knitting, Pad-batch Dyeing, Printing,...   \n",
       "201  Weaving, Knitting, Pad-batch Dyeing, Printing,...   \n",
       "\n",
       "                                       Data     Score  \\\n",
       "200      [80.08197200000001, 28.97, 0.2784]  2.633333   \n",
       "198   [80.08197200000001, 28.97, 0.1208881]  2.633333   \n",
       "197  [80.08197200000001, 28.97, 0.12200156]  2.633333   \n",
       "196     [80.08197200000001, 28.97, 0.19932]  2.633333   \n",
       "201  [80.08197200000001, 28.97, 0.16682186]  2.633333   \n",
       "\n",
       "                                               Weights  \n",
       "200  [0.2333333333333333, 0.3333333333333333, 0.433...  \n",
       "198  [0.2333333333333333, 0.3333333333333333, 0.433...  \n",
       "197  [0.2333333333333333, 0.3333333333333333, 0.433...  \n",
       "196  [0.2333333333333333, 0.3333333333333333, 0.433...  \n",
       "201  [0.2333333333333333, 0.3333333333333333, 0.433...  "
      ]
     },
     "metadata": {},
     "output_type": "display_data"
    },
    {
     "data": {
      "image/png": "[encoded data removed]",
      "text/plain": [
       "<Figure size 288x360 with 1 Axes>"
      ]
     },
     "metadata": {
      "needs_background": "light"
     },
     "output_type": "display_data"
    }
   ],
   "source": [
    "output = pd.DataFrame({'Procedure': conds, 'Data': possible_combos, \n",
    "                       'Score': scores, 'Weights': weights}).sort_values('Score')\n",
    "display(output.head())\n",
    "fig, ax = plt.subplots(figsize=(4, 5))\n",
    "sns.barplot(x = 'Score', y = 'Procedure', data = output.head(7), orient = 'h')\n",
    "plt.xticks(np.arange(1, 11))\n",
    "plt.show()"
   ]
  },
  {
   "cell_type": "code",
   "execution_count": 27,
   "metadata": {},
   "outputs": [
    {
     "data": {
      "text/html": [
       "<div>\n",
       "<style scoped>\n",
       "    .dataframe tbody tr th:only-of-type {\n",
       "        vertical-align: middle;\n",
       "    }\n",
       "\n",
       "    .dataframe tbody tr th {\n",
       "        vertical-align: top;\n",
       "    }\n",
       "\n",
       "    .dataframe thead th {\n",
       "        text-align: right;\n",
       "    }\n",
       "</style>\n",
       "<table border=\"1\" class=\"dataframe\">\n",
       "  <thead>\n",
       "    <tr style=\"text-align: right;\">\n",
       "      <th></th>\n",
       "      <th>Procedure</th>\n",
       "      <th>Data</th>\n",
       "      <th>Score</th>\n",
       "      <th>Weights</th>\n",
       "    </tr>\n",
       "  </thead>\n",
       "  <tbody>\n",
       "    <tr>\n",
       "      <th>150</th>\n",
       "      <td>Weaving, Knitting, Skein Dyeing, Printing, Pri...</td>\n",
       "      <td>[90.22507200000001, 28.97, 1.7094]</td>\n",
       "      <td>6.1</td>\n",
       "      <td>[0.2333333333333333, 0.43333333333333335, 0.33...</td>\n",
       "    </tr>\n",
       "    <tr>\n",
       "      <th>241</th>\n",
       "      <td>Weaving, Knitting, Package Dyeing, Printing, P...</td>\n",
       "      <td>[90.819772, 28.97, 1.7094]</td>\n",
       "      <td>6.1</td>\n",
       "      <td>[0.2333333333333333, 0.43333333333333335, 0.33...</td>\n",
       "    </tr>\n",
       "    <tr>\n",
       "      <th>157</th>\n",
       "      <td>Weaving, Knitting, Skein Dyeing, Printing, Pri...</td>\n",
       "      <td>[93.46297200000001, 28.97, 1.7094]</td>\n",
       "      <td>6.1</td>\n",
       "      <td>[0.2333333333333333, 0.43333333333333335, 0.33...</td>\n",
       "    </tr>\n",
       "    <tr>\n",
       "      <th>122</th>\n",
       "      <td>Weaving, Knitting, Paddle Dyeing, Printing, Pr...</td>\n",
       "      <td>[91.87707200000001, 28.97, 1.7094]</td>\n",
       "      <td>6.1</td>\n",
       "      <td>[0.2333333333333333, 0.43333333333333335, 0.33...</td>\n",
       "    </tr>\n",
       "    <tr>\n",
       "      <th>73</th>\n",
       "      <td>Weaving, Knitting, Jet Dyeing, Printing, Print...</td>\n",
       "      <td>[91.48057200000001, 28.97, 1.7094]</td>\n",
       "      <td>6.1</td>\n",
       "      <td>[0.2333333333333333, 0.43333333333333335, 0.33...</td>\n",
       "    </tr>\n",
       "  </tbody>\n",
       "</table>\n",
       "</div>"
      ],
      "text/plain": [
       "                                             Procedure  \\\n",
       "150  Weaving, Knitting, Skein Dyeing, Printing, Pri...   \n",
       "241  Weaving, Knitting, Package Dyeing, Printing, P...   \n",
       "157  Weaving, Knitting, Skein Dyeing, Printing, Pri...   \n",
       "122  Weaving, Knitting, Paddle Dyeing, Printing, Pr...   \n",
       "73   Weaving, Knitting, Jet Dyeing, Printing, Print...   \n",
       "\n",
       "                                   Data  Score  \\\n",
       "150  [90.22507200000001, 28.97, 1.7094]    6.1   \n",
       "241          [90.819772, 28.97, 1.7094]    6.1   \n",
       "157  [93.46297200000001, 28.97, 1.7094]    6.1   \n",
       "122  [91.87707200000001, 28.97, 1.7094]    6.1   \n",
       "73   [91.48057200000001, 28.97, 1.7094]    6.1   \n",
       "\n",
       "                                               Weights  \n",
       "150  [0.2333333333333333, 0.43333333333333335, 0.33...  \n",
       "241  [0.2333333333333333, 0.43333333333333335, 0.33...  \n",
       "157  [0.2333333333333333, 0.43333333333333335, 0.33...  \n",
       "122  [0.2333333333333333, 0.43333333333333335, 0.33...  \n",
       "73   [0.2333333333333333, 0.43333333333333335, 0.33...  "
      ]
     },
     "metadata": {},
     "output_type": "display_data"
    },
    {
     "data": {
      "image/png": "[encoded data removed]",
      "text/plain": [
       "<Figure size 288x360 with 1 Axes>"
      ]
     },
     "metadata": {
      "needs_background": "light"
     },
     "output_type": "display_data"
    }
   ],
   "source": [
    "display(output.tail())\n",
    "fig, ax = plt.subplots(figsize=(4, 5))\n",
    "sns.barplot(x = 'Score', y = 'Procedure', data = output.tail(), orient = 'h')\n",
    "plt.xticks(np.arange(1, 11))\n",
    "plt.show()"
   ]
  }
 ],
 "metadata": {
  "kernelspec": {
   "display_name": "Python 3",
   "language": "python",
   "name": "python3"
  },
  "language_info": {
   "codemirror_mode": {
    "name": "ipython",
    "version": 3
   },
   "file_extension": ".py",
   "mimetype": "text/x-python",
   "name": "python",
   "nbconvert_exporter": "python",
   "pygments_lexer": "ipython3",
   "version": "3.7.3"
  }
 },
 "nbformat": 4,
 "nbformat_minor": 2
}
